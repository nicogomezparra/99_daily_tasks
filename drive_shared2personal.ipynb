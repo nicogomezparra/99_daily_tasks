{
  "nbformat": 4,
  "nbformat_minor": 0,
  "metadata": {
    "colab": {
      "name": "Untitled0.ipynb",
      "provenance": [],
      "collapsed_sections": []
    },
    "kernelspec": {
      "name": "python3",
      "display_name": "Python 3"
    },
    "language_info": {
      "name": "python"
    }
  },
  "cells": [
    {
      "cell_type": "markdown",
      "metadata": {
        "id": "zREDQAkeH3h6"
      },
      "source": [
        "This link allows the user to sync complete shared folders in Google Drive to the personal account."
      ]
    },
    {
      "cell_type": "code",
      "metadata": {
        "colab": {
          "base_uri": "https://localhost:8080/"
        },
        "id": "_Qikys66D8xE",
        "outputId": "95fee846-d9d6-4734-9eb7-5bd6245bd46e"
      },
      "source": [
        "from google.colab import drive\n",
        "drive.mount('/gdrive')"
      ],
      "execution_count": null,
      "outputs": [
        {
          "output_type": "stream",
          "text": [
            "Mounted at /gdrive\n"
          ],
          "name": "stdout"
        }
      ]
    },
    {
      "cell_type": "code",
      "metadata": {
        "colab": {
          "base_uri": "https://localhost:8080/"
        },
        "id": "EWHwzkHvEN9B",
        "outputId": "910e0d11-0a60-46ff-e2ae-cebce620003c"
      },
      "source": [
        "%cd /gdrive/MyDrive/2021_TCS_VEC\n",
        "%ls"
      ],
      "execution_count": null,
      "outputs": [
        {
          "output_type": "stream",
          "text": [
            "/gdrive/.shortcut-targets-by-id/141z1v13xGqjcVMyoBnQ5ls87gV-S5_E2/2021_TCS_VEC\n",
            "\u001b[0m\u001b[01;34mTCS2016_2017_2018\u001b[0m/  \u001b[01;34mVEC2017_2018_2019\u001b[0m/\n"
          ],
          "name": "stdout"
        }
      ]
    },
    {
      "cell_type": "code",
      "metadata": {
        "colab": {
          "base_uri": "https://localhost:8080/",
          "height": 37
        },
        "id": "iV5bw-AnFsl0",
        "outputId": "5ce20e05-11e1-404d-d5f7-2ad61e10217f"
      },
      "source": [
        "pwd"
      ],
      "execution_count": null,
      "outputs": [
        {
          "output_type": "execute_result",
          "data": {
            "application/vnd.google.colaboratory.intrinsic+json": {
              "type": "string"
            },
            "text/plain": [
              "'/gdrive/.shortcut-targets-by-id/141z1v13xGqjcVMyoBnQ5ls87gV-S5_E2/2021_TCS_VEC'"
            ]
          },
          "metadata": {
            "tags": []
          },
          "execution_count": 12
        }
      ]
    },
    {
      "cell_type": "code",
      "metadata": {
        "id": "wQbJo_jWF0DC"
      },
      "source": [
        "!cp -r '/gdrive/.shortcut-targets-by-id/141z1v13xGqjcVMyoBnQ5ls87gV-S5_E2/2021_TCS_VEC/.' '/gdrive/My Drive/TCS'"
      ],
      "execution_count": null,
      "outputs": []
    }
  ]
}